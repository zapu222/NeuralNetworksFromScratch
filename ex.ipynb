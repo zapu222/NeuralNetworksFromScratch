{
 "cells": [
  {
   "cell_type": "markdown",
   "metadata": {},
   "source": [
    "# Neural Networks from Scratch in Python\n",
    "### Written by Zachary Pulliam\n",
    "\n",
    "This iPythonNotebook is used to load a portion of the MNIST dataset conatining 0's, 1's, 2's, 3's, and 4's into training and testing subsets. Then, create, train, and test a neural network on the data. metrics are reported overal, as well as on each subset of values 0 to 4. Individual images and their predictions are also displayed."
   ]
  },
  {
   "cell_type": "code",
   "execution_count": 1,
   "metadata": {},
   "outputs": [
    {
     "name": "stdout",
     "output_type": "stream",
     "text": [
      "\n",
      "Before training...\n",
      "     Training Accuracy: 0.155\n",
      "------------------------------\n",
      "Epoch: 1 of 10\n",
      "     Training Accuracy: 0.537\n",
      "Epoch: 2 of 10\n",
      "     Training Accuracy: 0.685\n",
      "Epoch: 3 of 10\n",
      "     Training Accuracy: 0.763\n",
      "Epoch: 4 of 10\n",
      "     Training Accuracy: 0.81\n",
      "Epoch: 5 of 10\n",
      "     Training Accuracy: 0.833\n",
      "Epoch: 6 of 10\n",
      "     Training Accuracy: 0.849\n",
      "Epoch: 7 of 10\n",
      "     Training Accuracy: 0.86\n",
      "Epoch: 8 of 10\n",
      "     Training Accuracy: 0.868\n",
      "Epoch: 9 of 10\n",
      "     Training Accuracy: 0.874\n",
      "Epoch: 10 of 10\n",
      "     Training Accuracy: 0.881\n",
      "------------------------------\n",
      "Testing Accuracy: 0.896\n"
     ]
    }
   ],
   "source": [
    "import os\n",
    "from nn import NN\n",
    "from datasets import MNISTDataset_0_4_train, MNISTDataset_0_4_test\n",
    "\n",
    "\n",
    "\"\"\" Variables for the user to change\"\"\"\n",
    "ROOT = ''  # path to root folder\n",
    "arch_0_4 = os.path.join(ROOT, 'architecture_0_4.txt')  # path to architecture file 0 to 4 classification \n",
    "\n",
    "train = MNISTDataset_0_4_train(os.path.join(ROOT, 'data'))  # training data\n",
    "test = MNISTDataset_0_4_test(os.path.join(ROOT, 'data'))  # testing data\n",
    "\n",
    "nn = NN(arch_0_4)  # create NN\n",
    "nn.train(train.x, train.y, 10)  # train NN\n",
    "nn.test(test.x, test.y)  # test NN\n"
   ]
  },
  {
   "cell_type": "code",
   "execution_count": 3,
   "metadata": {},
   "outputs": [
    {
     "name": "stdout",
     "output_type": "stream",
     "text": [
      "Testing Accuracies on Each Class 0 to 4\n",
      "---------------------------------------\n",
      "0's Testing Accuracy: 0.907\n",
      "1's Testing Accuracy: 0.959\n",
      "2's Testing Accuracy: 0.778\n",
      "3's Testing Accuracy: 0.891\n",
      "4's Testing Accuracy: 0.939\n"
     ]
    }
   ],
   "source": [
    "import numpy as np\n",
    "\n",
    "ids = [[],[],[],[],[]]\n",
    "for i, arr in enumerate(test.y):\n",
    "    id = np.argmax(arr)\n",
    "    ids[id].append(i)\n",
    "\n",
    "zeros_x, zeros_y = [test.x[i] for i in ids[0]], [test.y[i] for i in ids[0]]\n",
    "ones_x, ones_y = [test.x[i] for i in ids[1]], [test.y[i] for i in ids[1]]\n",
    "twos_x, twos_y = [test.x[i] for i in ids[2]], [test.y[i] for i in ids[2]]\n",
    "threes_x, threes_y = [test.x[i] for i in ids[3]], [test.y[i] for i in ids[3]]\n",
    "fours_x, fours_y = [test.x[i] for i in ids[4]], [test.y[i] for i in ids[4]]\n",
    "\n",
    "a = [[zeros_x, zeros_y], [ones_x, ones_y], [twos_x, twos_y], [threes_x, threes_y], [fours_x, fours_y]]\n",
    "\n",
    "print('Testing Accuracies on Each Class 0 to 4')\n",
    "print('---------------------------------------')\n",
    "\n",
    "k = 0\n",
    "for i in a:\n",
    "    print('{x}\\'s '.format(x=k), end='')\n",
    "    k+=1\n",
    "    nn.test(i[0], i[1])  # test NN\n"
   ]
  },
  {
   "cell_type": "code",
   "execution_count": 13,
   "metadata": {},
   "outputs": [
    {
     "data": {
      "image/png": "[encoded data removed]",
      "text/plain": [
       "<Figure size 432x288 with 1 Axes>"
      ]
     },
     "metadata": {
      "needs_background": "light"
     },
     "output_type": "display_data"
    },
    {
     "name": "stdout",
     "output_type": "stream",
     "text": [
      "Model predicton: 4\n"
     ]
    }
   ],
   "source": [
    "import random\n",
    "import numpy as np\n",
    "from matplotlib import pyplot as plt\n",
    "\n",
    "i = random.randint(0, len(test.x))\n",
    "arr = test.x[i]\n",
    "\n",
    "output = nn.predict(arr)\n",
    "\n",
    "arr = np.reshape(arr, (28, 28))\n",
    "plt.imshow(arr, interpolation='nearest')\n",
    "plt.show()\n",
    "\n",
    "print('Model predicton:', output)"
   ]
  },
  {
   "cell_type": "code",
   "execution_count": null,
   "metadata": {},
   "outputs": [],
   "source": []
  }
 ],
 "metadata": {
  "interpreter": {
   "hash": "e94b4907ea06e8ffc00a1152b131f23416fcb01c909f4f699ab56243ba961803"
  },
  "kernelspec": {
   "display_name": "Python 3.9.7 ('ds')",
   "language": "python",
   "name": "python3"
  },
  "language_info": {
   "codemirror_mode": {
    "name": "ipython",
    "version": 3
   },
   "file_extension": ".py",
   "mimetype": "text/x-python",
   "name": "python",
   "nbconvert_exporter": "python",
   "pygments_lexer": "ipython3",
   "version": "3.9.7"
  },
  "orig_nbformat": 4
 },
 "nbformat": 4,
 "nbformat_minor": 2
}
